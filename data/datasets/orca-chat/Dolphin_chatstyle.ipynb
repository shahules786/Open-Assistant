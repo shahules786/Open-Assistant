{
 "cells": [
  {
   "cell_type": "code",
   "execution_count": 1,
   "id": "c148b08e",
   "metadata": {},
   "outputs": [
    {
     "name": "stderr",
     "output_type": "stream",
     "text": [
      "/opt/anaconda3/envs/alerts/lib/python3.8/site-packages/tqdm/auto.py:22: TqdmWarning: IProgress not found. Please update jupyter and ipywidgets. See https://ipywidgets.readthedocs.io/en/stable/user_install.html\n",
      "  from .autonotebook import tqdm as notebook_tqdm\n"
     ]
    }
   ],
   "source": [
    "import pandas as pd\n",
    "import json\n",
    "import re\n",
    "from sklearn.cluster import DBSCAN\n",
    "from sentence_transformers import SentenceTransformer\n",
    "import umap\n",
    "import numpy as np\n",
    "import joblib"
   ]
  },
  {
   "cell_type": "code",
   "execution_count": 2,
   "id": "22e9087b",
   "metadata": {},
   "outputs": [],
   "source": [
    "from datasets import load_dataset\n",
    "import faiss"
   ]
  },
  {
   "cell_type": "code",
   "execution_count": 3,
   "id": "f36b3f62",
   "metadata": {},
   "outputs": [],
   "source": [
    "SBERT_MODEL = \"all-MiniLM-L6-v2\"\n"
   ]
  },
  {
   "cell_type": "markdown",
   "id": "1196b47d",
   "metadata": {},
   "source": [
    "## Functions"
   ]
  },
  {
   "cell_type": "code",
   "execution_count": 4,
   "id": "2a9ff208",
   "metadata": {},
   "outputs": [],
   "source": [
    "def load_vectorizer(model=SBERT_MODEL):\n",
    "     return SentenceTransformer(model)\n",
    "    \n",
    "def vectorize_text(model,texts):\n",
    "    \n",
    "    return model.encode(texts, show_progress_bar=True)"
   ]
  },
  {
   "cell_type": "code",
   "execution_count": 5,
   "id": "b18b0d9e",
   "metadata": {},
   "outputs": [],
   "source": [
    "def umap_embed(embeddings,model_name=\"umap-model\",n_neighbors=15,n_components=50,min_dist=0.05,train=False):\n",
    "    \n",
    "    if train:\n",
    "        umap_embeddings = umap.UMAP(n_neighbors=n_neighbors, \n",
    "                                    n_components=n_components, \n",
    "                                    min_dist = min_dist,\n",
    "                                    metric='cosine',\n",
    "                                    ).fit(embeddings)\n",
    "        joblib.dump(umap_embeddings,f\"umap-{model_name}.pkl\")\n",
    "        print(\"Saved Umap model.\")\n",
    "\n",
    "    \n",
    "    umap_embeddings = joblib.load(f\"umap-{model_name}.pkl\")\n",
    "    embeddings = umap_embeddings.transform(embeddings)\n",
    "    \n",
    "    return embeddings"
   ]
  },
  {
   "cell_type": "code",
   "execution_count": 6,
   "id": "abb0f5a5",
   "metadata": {},
   "outputs": [],
   "source": [
    "def get_data_by_indices(dataset, indices):\n",
    "    \n",
    "    return dataset.select(indices).to_pandas()"
   ]
  },
  {
   "cell_type": "markdown",
   "id": "34702323",
   "metadata": {},
   "source": [
    "## Data-prep"
   ]
  },
  {
   "cell_type": "code",
   "execution_count": 7,
   "id": "8ff30823",
   "metadata": {},
   "outputs": [],
   "source": [
    "model = load_vectorizer()"
   ]
  },
  {
   "cell_type": "code",
   "execution_count": 8,
   "id": "288a89c0",
   "metadata": {},
   "outputs": [
    {
     "name": "stderr",
     "output_type": "stream",
     "text": [
      "Found cached dataset json (/Users/shahules/.cache/huggingface/datasets/ehartford___json/ehartford--dolphin-a93dfe869bfca67a/0.0.0/e347ab1c932092252e717ff3f949105a4dd28b27e842dd53157d2f72e276c2e4)\n",
      "100%|█████████████████████████████████████████████████████| 1/1 [00:00<00:00,  3.70it/s]\n"
     ]
    }
   ],
   "source": [
    "dataset = load_dataset(\"ehartford/dolphin\")\n",
    "#.shuffle().sample(range(0,10000))"
   ]
  },
  {
   "cell_type": "code",
   "execution_count": 9,
   "id": "73750e71",
   "metadata": {},
   "outputs": [],
   "source": [
    "train_dataset = dataset['train'].shuffle().select(range(0,1000))\n",
    "input_text = [item[\"input\"].strip() for item in train_dataset]"
   ]
  },
  {
   "cell_type": "code",
   "execution_count": 10,
   "id": "88f045c5",
   "metadata": {},
   "outputs": [
    {
     "name": "stderr",
     "output_type": "stream",
     "text": [
      "Batches: 100%|██████████████████████████████████████████| 32/32 [01:45<00:00,  3.30s/it]\n"
     ]
    }
   ],
   "source": [
    "input_vectors = vectorize_text(model, input_text)"
   ]
  },
  {
   "cell_type": "code",
   "execution_count": 11,
   "id": "c0c70c67",
   "metadata": {},
   "outputs": [],
   "source": [
    "# input_vectors_umap = umap_embed(input_vectors,train=True)"
   ]
  },
  {
   "cell_type": "code",
   "execution_count": 11,
   "id": "7cdb49bc",
   "metadata": {},
   "outputs": [],
   "source": [
    "d = input_vectors.shape[-1]"
   ]
  },
  {
   "cell_type": "code",
   "execution_count": 12,
   "id": "10fa34be",
   "metadata": {},
   "outputs": [
    {
     "data": {
      "text/plain": [
       "False"
      ]
     },
     "execution_count": 12,
     "metadata": {},
     "output_type": "execute_result"
    }
   ],
   "source": [
    "quantizer = faiss.IndexFlatIP(d)\n",
    "index = faiss.IndexIVFFlat(quantizer,d,5)\n",
    "index.is_trained"
   ]
  },
  {
   "cell_type": "code",
   "execution_count": null,
   "id": "11673ad8",
   "metadata": {},
   "outputs": [],
   "source": [
    "index.train(input_vectors[:100])\n"
   ]
  },
  {
   "cell_type": "code",
   "execution_count": null,
   "id": "e5ac4e97",
   "metadata": {},
   "outputs": [],
   "source": [
    "index.add(input_vectors)"
   ]
  },
  {
   "cell_type": "code",
   "execution_count": null,
   "id": "07f94948",
   "metadata": {},
   "outputs": [],
   "source": [
    "I,D = index.search(embed_vectors[35].reshape(1,-1),k)\n"
   ]
  }
 ],
 "metadata": {
  "kernelspec": {
   "display_name": "Alerts",
   "language": "python",
   "name": "alerts"
  },
  "language_info": {
   "codemirror_mode": {
    "name": "ipython",
    "version": 3
   },
   "file_extension": ".py",
   "mimetype": "text/x-python",
   "name": "python",
   "nbconvert_exporter": "python",
   "pygments_lexer": "ipython3",
   "version": "3.8.13"
  }
 },
 "nbformat": 4,
 "nbformat_minor": 5
}
